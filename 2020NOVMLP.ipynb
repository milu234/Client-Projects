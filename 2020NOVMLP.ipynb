{
  "nbformat": 4,
  "nbformat_minor": 0,
  "metadata": {
    "colab": {
      "name": "2020NOVMLP.ipynb",
      "provenance": [],
      "authorship_tag": "ABX9TyMJih4dga7pg9psh2Tu0iaL",
      "include_colab_link": true
    },
    "kernelspec": {
      "name": "python3",
      "display_name": "Python 3"
    }
  },
  "cells": [
    {
      "cell_type": "markdown",
      "metadata": {
        "id": "view-in-github",
        "colab_type": "text"
      },
      "source": [
        "<a href=\"https://colab.research.google.com/github/milu234/Client-Projects/blob/master/2020NOVMLP.ipynb\" target=\"_parent\"><img src=\"https://colab.research.google.com/assets/colab-badge.svg\" alt=\"Open In Colab\"/></a>"
      ]
    },
    {
      "cell_type": "code",
      "metadata": {
        "id": "1j-jBi9OkC8N",
        "colab": {
          "base_uri": "https://localhost:8080/"
        },
        "outputId": "5f2b9747-8664-4f4b-88d1-8a642bc3b40f"
      },
      "source": [
        "!pip install quandl"
      ],
      "execution_count": null,
      "outputs": [
        {
          "output_type": "stream",
          "text": [
            "Requirement already satisfied: quandl in /usr/local/lib/python3.6/dist-packages (3.5.3)\n",
            "Requirement already satisfied: python-dateutil in /usr/local/lib/python3.6/dist-packages (from quandl) (2.8.1)\n",
            "Requirement already satisfied: pandas>=0.14 in /usr/local/lib/python3.6/dist-packages (from quandl) (1.1.4)\n",
            "Requirement already satisfied: more-itertools in /usr/local/lib/python3.6/dist-packages (from quandl) (8.6.0)\n",
            "Requirement already satisfied: six in /usr/local/lib/python3.6/dist-packages (from quandl) (1.15.0)\n",
            "Requirement already satisfied: requests>=2.7.0 in /usr/local/lib/python3.6/dist-packages (from quandl) (2.23.0)\n",
            "Requirement already satisfied: inflection>=0.3.1 in /usr/local/lib/python3.6/dist-packages (from quandl) (0.5.1)\n",
            "Requirement already satisfied: numpy>=1.8 in /usr/local/lib/python3.6/dist-packages (from quandl) (1.18.5)\n",
            "Requirement already satisfied: pytz>=2017.2 in /usr/local/lib/python3.6/dist-packages (from pandas>=0.14->quandl) (2018.9)\n",
            "Requirement already satisfied: chardet<4,>=3.0.2 in /usr/local/lib/python3.6/dist-packages (from requests>=2.7.0->quandl) (3.0.4)\n",
            "Requirement already satisfied: urllib3!=1.25.0,!=1.25.1,<1.26,>=1.21.1 in /usr/local/lib/python3.6/dist-packages (from requests>=2.7.0->quandl) (1.24.3)\n",
            "Requirement already satisfied: certifi>=2017.4.17 in /usr/local/lib/python3.6/dist-packages (from requests>=2.7.0->quandl) (2020.6.20)\n",
            "Requirement already satisfied: idna<3,>=2.5 in /usr/local/lib/python3.6/dist-packages (from requests>=2.7.0->quandl) (2.10)\n"
          ],
          "name": "stdout"
        }
      ]
    },
    {
      "cell_type": "code",
      "metadata": {
        "id": "KW5225Pyr1YQ",
        "colab": {
          "base_uri": "https://localhost:8080/"
        },
        "outputId": "16f41949-675c-4a83-b110-dc2f6624b1f4"
      },
      "source": [
        "!pip install pandas"
      ],
      "execution_count": null,
      "outputs": [
        {
          "output_type": "stream",
          "text": [
            "Requirement already satisfied: pandas in /usr/local/lib/python3.6/dist-packages (1.1.4)\n",
            "Requirement already satisfied: numpy>=1.15.4 in /usr/local/lib/python3.6/dist-packages (from pandas) (1.18.5)\n",
            "Requirement already satisfied: pytz>=2017.2 in /usr/local/lib/python3.6/dist-packages (from pandas) (2018.9)\n",
            "Requirement already satisfied: python-dateutil>=2.7.3 in /usr/local/lib/python3.6/dist-packages (from pandas) (2.8.1)\n",
            "Requirement already satisfied: six>=1.5 in /usr/local/lib/python3.6/dist-packages (from python-dateutil>=2.7.3->pandas) (1.15.0)\n"
          ],
          "name": "stdout"
        }
      ]
    },
    {
      "cell_type": "markdown",
      "metadata": {
        "id": "dKR7fO8vCL14"
      },
      "source": [
        "# New Section"
      ]
    },
    {
      "cell_type": "code",
      "metadata": {
        "id": "H5vyXaS3n98-"
      },
      "source": [
        "import pandas as pd\n",
        "import quandl\n",
        "import math, datetime\n",
        "import numpy as np\n",
        "from sklearn import preprocessing, cross_decomposition,svm,model_selection\n",
        "import matplotlib.pyplot as plt\n",
        "from matplotlib import style\n",
        "import pickle\n",
        "\n",
        "from sklearn.linear_model import LinearRegression\n",
        "\n",
        "style.use('ggplot')"
      ],
      "execution_count": null,
      "outputs": []
    },
    {
      "cell_type": "code",
      "metadata": {
        "id": "_JfGXH6noiTH"
      },
      "source": [
        "df= quandl.ApiConfig.api_key = 'Gb-TjKWQyEux1RNrieys'\n",
        "df = quandl.get('WIKI/GOOGL')"
      ],
      "execution_count": null,
      "outputs": []
    },
    {
      "cell_type": "code",
      "metadata": {
        "id": "bqGuc23xpKLX",
        "colab": {
          "base_uri": "https://localhost:8080/",
          "height": 328
        },
        "outputId": "1365d22e-c567-4620-b0ba-57634c5eadf1"
      },
      "source": [
        "df.head(8)"
      ],
      "execution_count": null,
      "outputs": [
        {
          "output_type": "execute_result",
          "data": {
            "text/html": [
              "<div>\n",
              "<style scoped>\n",
              "    .dataframe tbody tr th:only-of-type {\n",
              "        vertical-align: middle;\n",
              "    }\n",
              "\n",
              "    .dataframe tbody tr th {\n",
              "        vertical-align: top;\n",
              "    }\n",
              "\n",
              "    .dataframe thead th {\n",
              "        text-align: right;\n",
              "    }\n",
              "</style>\n",
              "<table border=\"1\" class=\"dataframe\">\n",
              "  <thead>\n",
              "    <tr style=\"text-align: right;\">\n",
              "      <th></th>\n",
              "      <th>Open</th>\n",
              "      <th>High</th>\n",
              "      <th>Low</th>\n",
              "      <th>Close</th>\n",
              "      <th>Volume</th>\n",
              "      <th>Ex-Dividend</th>\n",
              "      <th>Split Ratio</th>\n",
              "      <th>Adj. Open</th>\n",
              "      <th>Adj. High</th>\n",
              "      <th>Adj. Low</th>\n",
              "      <th>Adj. Close</th>\n",
              "      <th>Adj. Volume</th>\n",
              "    </tr>\n",
              "    <tr>\n",
              "      <th>Date</th>\n",
              "      <th></th>\n",
              "      <th></th>\n",
              "      <th></th>\n",
              "      <th></th>\n",
              "      <th></th>\n",
              "      <th></th>\n",
              "      <th></th>\n",
              "      <th></th>\n",
              "      <th></th>\n",
              "      <th></th>\n",
              "      <th></th>\n",
              "      <th></th>\n",
              "    </tr>\n",
              "  </thead>\n",
              "  <tbody>\n",
              "    <tr>\n",
              "      <th>2004-08-19</th>\n",
              "      <td>100.01</td>\n",
              "      <td>104.06</td>\n",
              "      <td>95.96</td>\n",
              "      <td>100.335</td>\n",
              "      <td>44659000.0</td>\n",
              "      <td>0.0</td>\n",
              "      <td>1.0</td>\n",
              "      <td>50.159839</td>\n",
              "      <td>52.191109</td>\n",
              "      <td>48.128568</td>\n",
              "      <td>50.322842</td>\n",
              "      <td>44659000.0</td>\n",
              "    </tr>\n",
              "    <tr>\n",
              "      <th>2004-08-20</th>\n",
              "      <td>101.01</td>\n",
              "      <td>109.08</td>\n",
              "      <td>100.50</td>\n",
              "      <td>108.310</td>\n",
              "      <td>22834300.0</td>\n",
              "      <td>0.0</td>\n",
              "      <td>1.0</td>\n",
              "      <td>50.661387</td>\n",
              "      <td>54.708881</td>\n",
              "      <td>50.405597</td>\n",
              "      <td>54.322689</td>\n",
              "      <td>22834300.0</td>\n",
              "    </tr>\n",
              "    <tr>\n",
              "      <th>2004-08-23</th>\n",
              "      <td>110.76</td>\n",
              "      <td>113.48</td>\n",
              "      <td>109.05</td>\n",
              "      <td>109.400</td>\n",
              "      <td>18256100.0</td>\n",
              "      <td>0.0</td>\n",
              "      <td>1.0</td>\n",
              "      <td>55.551482</td>\n",
              "      <td>56.915693</td>\n",
              "      <td>54.693835</td>\n",
              "      <td>54.869377</td>\n",
              "      <td>18256100.0</td>\n",
              "    </tr>\n",
              "    <tr>\n",
              "      <th>2004-08-24</th>\n",
              "      <td>111.24</td>\n",
              "      <td>111.60</td>\n",
              "      <td>103.57</td>\n",
              "      <td>104.870</td>\n",
              "      <td>15247300.0</td>\n",
              "      <td>0.0</td>\n",
              "      <td>1.0</td>\n",
              "      <td>55.792225</td>\n",
              "      <td>55.972783</td>\n",
              "      <td>51.945350</td>\n",
              "      <td>52.597363</td>\n",
              "      <td>15247300.0</td>\n",
              "    </tr>\n",
              "    <tr>\n",
              "      <th>2004-08-25</th>\n",
              "      <td>104.76</td>\n",
              "      <td>108.00</td>\n",
              "      <td>103.88</td>\n",
              "      <td>106.000</td>\n",
              "      <td>9188600.0</td>\n",
              "      <td>0.0</td>\n",
              "      <td>1.0</td>\n",
              "      <td>52.542193</td>\n",
              "      <td>54.167209</td>\n",
              "      <td>52.100830</td>\n",
              "      <td>53.164113</td>\n",
              "      <td>9188600.0</td>\n",
              "    </tr>\n",
              "    <tr>\n",
              "      <th>2004-08-26</th>\n",
              "      <td>104.95</td>\n",
              "      <td>107.95</td>\n",
              "      <td>104.66</td>\n",
              "      <td>107.910</td>\n",
              "      <td>7094800.0</td>\n",
              "      <td>0.0</td>\n",
              "      <td>1.0</td>\n",
              "      <td>52.637487</td>\n",
              "      <td>54.142132</td>\n",
              "      <td>52.492038</td>\n",
              "      <td>54.122070</td>\n",
              "      <td>7094800.0</td>\n",
              "    </tr>\n",
              "    <tr>\n",
              "      <th>2004-08-27</th>\n",
              "      <td>108.10</td>\n",
              "      <td>108.62</td>\n",
              "      <td>105.69</td>\n",
              "      <td>106.150</td>\n",
              "      <td>6211700.0</td>\n",
              "      <td>0.0</td>\n",
              "      <td>1.0</td>\n",
              "      <td>54.217364</td>\n",
              "      <td>54.478169</td>\n",
              "      <td>53.008633</td>\n",
              "      <td>53.239345</td>\n",
              "      <td>6211700.0</td>\n",
              "    </tr>\n",
              "    <tr>\n",
              "      <th>2004-08-30</th>\n",
              "      <td>105.28</td>\n",
              "      <td>105.49</td>\n",
              "      <td>102.01</td>\n",
              "      <td>102.010</td>\n",
              "      <td>5196700.0</td>\n",
              "      <td>0.0</td>\n",
              "      <td>1.0</td>\n",
              "      <td>52.802998</td>\n",
              "      <td>52.908323</td>\n",
              "      <td>51.162935</td>\n",
              "      <td>51.162935</td>\n",
              "      <td>5196700.0</td>\n",
              "    </tr>\n",
              "  </tbody>\n",
              "</table>\n",
              "</div>"
            ],
            "text/plain": [
              "              Open    High     Low  ...   Adj. Low  Adj. Close  Adj. Volume\n",
              "Date                                ...                                    \n",
              "2004-08-19  100.01  104.06   95.96  ...  48.128568   50.322842   44659000.0\n",
              "2004-08-20  101.01  109.08  100.50  ...  50.405597   54.322689   22834300.0\n",
              "2004-08-23  110.76  113.48  109.05  ...  54.693835   54.869377   18256100.0\n",
              "2004-08-24  111.24  111.60  103.57  ...  51.945350   52.597363   15247300.0\n",
              "2004-08-25  104.76  108.00  103.88  ...  52.100830   53.164113    9188600.0\n",
              "2004-08-26  104.95  107.95  104.66  ...  52.492038   54.122070    7094800.0\n",
              "2004-08-27  108.10  108.62  105.69  ...  53.008633   53.239345    6211700.0\n",
              "2004-08-30  105.28  105.49  102.01  ...  51.162935   51.162935    5196700.0\n",
              "\n",
              "[8 rows x 12 columns]"
            ]
          },
          "metadata": {
            "tags": []
          },
          "execution_count": 117
        }
      ]
    },
    {
      "cell_type": "code",
      "metadata": {
        "id": "nEJy_v0S3Sui"
      },
      "source": [
        ""
      ],
      "execution_count": null,
      "outputs": []
    },
    {
      "cell_type": "code",
      "metadata": {
        "id": "ZHi4JcFDsj-0"
      },
      "source": [
        "  df = df[['Adj. Open','Adj. High', 'Adj. Low', 'Adj. Close', 'Adj. Volume',]]\n"
      ],
      "execution_count": null,
      "outputs": []
    },
    {
      "cell_type": "code",
      "metadata": {
        "id": "tU8uoOwh11IF"
      },
      "source": [
        "  df['HL_PCT'] = (df['Adj. High'] - df['Adj. Close']) / df['Adj. Close']*100.0\n",
        "  df['PCT_Change'] = (df['Adj. Close'] - df['Adj. Open']) / df['Adj. Open']*100.0\n",
        "\n",
        "  df = df[['Adj. Close', 'HL_PCT', 'PCT_Change' ,'Adj. Volume']]"
      ],
      "execution_count": null,
      "outputs": []
    },
    {
      "cell_type": "code",
      "metadata": {
        "id": "CGwRjGT64HTF",
        "colab": {
          "base_uri": "https://localhost:8080/",
          "height": 235
        },
        "outputId": "b0042b92-5a63-40f1-b9d7-9b7a3725ebfd"
      },
      "source": [
        "df.head(5)"
      ],
      "execution_count": null,
      "outputs": [
        {
          "output_type": "execute_result",
          "data": {
            "text/html": [
              "<div>\n",
              "<style scoped>\n",
              "    .dataframe tbody tr th:only-of-type {\n",
              "        vertical-align: middle;\n",
              "    }\n",
              "\n",
              "    .dataframe tbody tr th {\n",
              "        vertical-align: top;\n",
              "    }\n",
              "\n",
              "    .dataframe thead th {\n",
              "        text-align: right;\n",
              "    }\n",
              "</style>\n",
              "<table border=\"1\" class=\"dataframe\">\n",
              "  <thead>\n",
              "    <tr style=\"text-align: right;\">\n",
              "      <th></th>\n",
              "      <th>Adj. Close</th>\n",
              "      <th>HL_PCT</th>\n",
              "      <th>PCT_Change</th>\n",
              "      <th>Adj. Volume</th>\n",
              "    </tr>\n",
              "    <tr>\n",
              "      <th>Date</th>\n",
              "      <th></th>\n",
              "      <th></th>\n",
              "      <th></th>\n",
              "      <th></th>\n",
              "    </tr>\n",
              "  </thead>\n",
              "  <tbody>\n",
              "    <tr>\n",
              "      <th>2004-08-19</th>\n",
              "      <td>50.322842</td>\n",
              "      <td>3.712563</td>\n",
              "      <td>0.324968</td>\n",
              "      <td>44659000.0</td>\n",
              "    </tr>\n",
              "    <tr>\n",
              "      <th>2004-08-20</th>\n",
              "      <td>54.322689</td>\n",
              "      <td>0.710922</td>\n",
              "      <td>7.227007</td>\n",
              "      <td>22834300.0</td>\n",
              "    </tr>\n",
              "    <tr>\n",
              "      <th>2004-08-23</th>\n",
              "      <td>54.869377</td>\n",
              "      <td>3.729433</td>\n",
              "      <td>-1.227880</td>\n",
              "      <td>18256100.0</td>\n",
              "    </tr>\n",
              "    <tr>\n",
              "      <th>2004-08-24</th>\n",
              "      <td>52.597363</td>\n",
              "      <td>6.417469</td>\n",
              "      <td>-5.726357</td>\n",
              "      <td>15247300.0</td>\n",
              "    </tr>\n",
              "    <tr>\n",
              "      <th>2004-08-25</th>\n",
              "      <td>53.164113</td>\n",
              "      <td>1.886792</td>\n",
              "      <td>1.183658</td>\n",
              "      <td>9188600.0</td>\n",
              "    </tr>\n",
              "  </tbody>\n",
              "</table>\n",
              "</div>"
            ],
            "text/plain": [
              "            Adj. Close    HL_PCT  PCT_Change  Adj. Volume\n",
              "Date                                                     \n",
              "2004-08-19   50.322842  3.712563    0.324968   44659000.0\n",
              "2004-08-20   54.322689  0.710922    7.227007   22834300.0\n",
              "2004-08-23   54.869377  3.729433   -1.227880   18256100.0\n",
              "2004-08-24   52.597363  6.417469   -5.726357   15247300.0\n",
              "2004-08-25   53.164113  1.886792    1.183658    9188600.0"
            ]
          },
          "metadata": {
            "tags": []
          },
          "execution_count": 120
        }
      ]
    },
    {
      "cell_type": "code",
      "metadata": {
        "id": "Ue-R59TO4JoH"
      },
      "source": [
        "forecast_col = 'Adj. Close'"
      ],
      "execution_count": null,
      "outputs": []
    },
    {
      "cell_type": "code",
      "metadata": {
        "id": "5hG56Gx3BxaG"
      },
      "source": [
        "df.fillna(-99999, inplace=True)"
      ],
      "execution_count": null,
      "outputs": []
    },
    {
      "cell_type": "code",
      "metadata": {
        "id": "ubkS4tdTB435"
      },
      "source": [
        "forecast_out = int(math.ceil(0.01* len(df)))"
      ],
      "execution_count": null,
      "outputs": []
    },
    {
      "cell_type": "code",
      "metadata": {
        "id": "8CeJRF3kCJn9"
      },
      "source": [
        "df['label'] = df[forecast_col].shift(-forecast_out)"
      ],
      "execution_count": null,
      "outputs": []
    },
    {
      "cell_type": "code",
      "metadata": {
        "id": "lyAHDgZlCXZm"
      },
      "source": [
        "df.dropna(inplace=True)"
      ],
      "execution_count": null,
      "outputs": []
    },
    {
      "cell_type": "code",
      "metadata": {
        "id": "7eTunz0FCcgi",
        "colab": {
          "base_uri": "https://localhost:8080/",
          "height": 390
        },
        "outputId": "ace752ca-cec4-4541-e267-3ab246f1ee5f"
      },
      "source": [
        "df.head(10)"
      ],
      "execution_count": null,
      "outputs": [
        {
          "output_type": "execute_result",
          "data": {
            "text/html": [
              "<div>\n",
              "<style scoped>\n",
              "    .dataframe tbody tr th:only-of-type {\n",
              "        vertical-align: middle;\n",
              "    }\n",
              "\n",
              "    .dataframe tbody tr th {\n",
              "        vertical-align: top;\n",
              "    }\n",
              "\n",
              "    .dataframe thead th {\n",
              "        text-align: right;\n",
              "    }\n",
              "</style>\n",
              "<table border=\"1\" class=\"dataframe\">\n",
              "  <thead>\n",
              "    <tr style=\"text-align: right;\">\n",
              "      <th></th>\n",
              "      <th>Adj. Close</th>\n",
              "      <th>HL_PCT</th>\n",
              "      <th>PCT_Change</th>\n",
              "      <th>Adj. Volume</th>\n",
              "      <th>label</th>\n",
              "    </tr>\n",
              "    <tr>\n",
              "      <th>Date</th>\n",
              "      <th></th>\n",
              "      <th></th>\n",
              "      <th></th>\n",
              "      <th></th>\n",
              "      <th></th>\n",
              "    </tr>\n",
              "  </thead>\n",
              "  <tbody>\n",
              "    <tr>\n",
              "      <th>2004-08-19</th>\n",
              "      <td>50.322842</td>\n",
              "      <td>3.712563</td>\n",
              "      <td>0.324968</td>\n",
              "      <td>44659000.0</td>\n",
              "      <td>69.078238</td>\n",
              "    </tr>\n",
              "    <tr>\n",
              "      <th>2004-08-20</th>\n",
              "      <td>54.322689</td>\n",
              "      <td>0.710922</td>\n",
              "      <td>7.227007</td>\n",
              "      <td>22834300.0</td>\n",
              "      <td>67.839414</td>\n",
              "    </tr>\n",
              "    <tr>\n",
              "      <th>2004-08-23</th>\n",
              "      <td>54.869377</td>\n",
              "      <td>3.729433</td>\n",
              "      <td>-1.227880</td>\n",
              "      <td>18256100.0</td>\n",
              "      <td>68.912727</td>\n",
              "    </tr>\n",
              "    <tr>\n",
              "      <th>2004-08-24</th>\n",
              "      <td>52.597363</td>\n",
              "      <td>6.417469</td>\n",
              "      <td>-5.726357</td>\n",
              "      <td>15247300.0</td>\n",
              "      <td>70.668146</td>\n",
              "    </tr>\n",
              "    <tr>\n",
              "      <th>2004-08-25</th>\n",
              "      <td>53.164113</td>\n",
              "      <td>1.886792</td>\n",
              "      <td>1.183658</td>\n",
              "      <td>9188600.0</td>\n",
              "      <td>71.219849</td>\n",
              "    </tr>\n",
              "    <tr>\n",
              "      <th>2004-08-26</th>\n",
              "      <td>54.122070</td>\n",
              "      <td>0.037068</td>\n",
              "      <td>2.820391</td>\n",
              "      <td>7094800.0</td>\n",
              "      <td>72.278116</td>\n",
              "    </tr>\n",
              "    <tr>\n",
              "      <th>2004-08-27</th>\n",
              "      <td>53.239345</td>\n",
              "      <td>2.326896</td>\n",
              "      <td>-1.803885</td>\n",
              "      <td>6211700.0</td>\n",
              "      <td>74.810934</td>\n",
              "    </tr>\n",
              "    <tr>\n",
              "      <th>2004-08-30</th>\n",
              "      <td>51.162935</td>\n",
              "      <td>3.411430</td>\n",
              "      <td>-3.106003</td>\n",
              "      <td>5196700.0</td>\n",
              "      <td>74.199045</td>\n",
              "    </tr>\n",
              "    <tr>\n",
              "      <th>2004-08-31</th>\n",
              "      <td>51.343492</td>\n",
              "      <td>1.308977</td>\n",
              "      <td>0.048866</td>\n",
              "      <td>4917800.0</td>\n",
              "      <td>70.462511</td>\n",
              "    </tr>\n",
              "    <tr>\n",
              "      <th>2004-09-01</th>\n",
              "      <td>50.280210</td>\n",
              "      <td>2.713217</td>\n",
              "      <td>-2.385589</td>\n",
              "      <td>9138200.0</td>\n",
              "      <td>74.921275</td>\n",
              "    </tr>\n",
              "  </tbody>\n",
              "</table>\n",
              "</div>"
            ],
            "text/plain": [
              "            Adj. Close    HL_PCT  PCT_Change  Adj. Volume      label\n",
              "Date                                                                \n",
              "2004-08-19   50.322842  3.712563    0.324968   44659000.0  69.078238\n",
              "2004-08-20   54.322689  0.710922    7.227007   22834300.0  67.839414\n",
              "2004-08-23   54.869377  3.729433   -1.227880   18256100.0  68.912727\n",
              "2004-08-24   52.597363  6.417469   -5.726357   15247300.0  70.668146\n",
              "2004-08-25   53.164113  1.886792    1.183658    9188600.0  71.219849\n",
              "2004-08-26   54.122070  0.037068    2.820391    7094800.0  72.278116\n",
              "2004-08-27   53.239345  2.326896   -1.803885    6211700.0  74.810934\n",
              "2004-08-30   51.162935  3.411430   -3.106003    5196700.0  74.199045\n",
              "2004-08-31   51.343492  1.308977    0.048866    4917800.0  70.462511\n",
              "2004-09-01   50.280210  2.713217   -2.385589    9138200.0  74.921275"
            ]
          },
          "metadata": {
            "tags": []
          },
          "execution_count": 126
        }
      ]
    },
    {
      "cell_type": "code",
      "metadata": {
        "id": "KPptWYoqCfXu"
      },
      "source": [
        "X = np.array(df.drop(['label'],1))\n",
        "X = preprocessing.scale(X)"
      ],
      "execution_count": null,
      "outputs": []
    },
    {
      "cell_type": "code",
      "metadata": {
        "id": "CUM9wvwQNo9z"
      },
      "source": [
        "# X = X[:-forecast_out]\n",
        "# X_lately = X[-forecast_out:]"
      ],
      "execution_count": null,
      "outputs": []
    },
    {
      "cell_type": "code",
      "metadata": {
        "id": "mo_-x4fjNyLt"
      },
      "source": [
        ""
      ],
      "execution_count": null,
      "outputs": []
    },
    {
      "cell_type": "code",
      "metadata": {
        "id": "i760fXceN2r0"
      },
      "source": [
        "# df.dropna(inplace=True)"
      ],
      "execution_count": null,
      "outputs": []
    },
    {
      "cell_type": "code",
      "metadata": {
        "id": "XyuiYobj6CUA"
      },
      "source": [
        "y = np.array(df['label'])"
      ],
      "execution_count": null,
      "outputs": []
    },
    {
      "cell_type": "code",
      "metadata": {
        "id": "vhDdRB4rN_Xg"
      },
      "source": [
        ""
      ],
      "execution_count": null,
      "outputs": []
    },
    {
      "cell_type": "code",
      "metadata": {
        "id": "KnqGhBErOGIH"
      },
      "source": [
        "X_train , X_test, y_train , y_test = model_selection.train_test_split(X, y ,test_size = 0.2)"
      ],
      "execution_count": null,
      "outputs": []
    },
    {
      "cell_type": "code",
      "metadata": {
        "id": "JNBwdCdEOpQV"
      },
      "source": [
        "# clf = LinearRegression(n_jobs=-1)"
      ],
      "execution_count": null,
      "outputs": []
    },
    {
      "cell_type": "code",
      "metadata": {
        "id": "BbKWGHCDOvK3"
      },
      "source": [
        "# clf.fit(X_train, y_train)\n",
        "# with open('linearregression.pickle', 'wb') as f:\n",
        "#   pickle.dump(clf, f)\n",
        "\n",
        "pickle_in = open('linearregression.pickle' ,'rb')\n",
        "clf = pickle.load(pickle_in)\n",
        "\n",
        "accuracy  = clf.score(X_test, y_test)"
      ],
      "execution_count": null,
      "outputs": []
    },
    {
      "cell_type": "code",
      "metadata": {
        "colab": {
          "base_uri": "https://localhost:8080/"
        },
        "id": "97aOtSeZPC8S",
        "outputId": "93724b8b-562b-4d19-cb7c-eed7612de012"
      },
      "source": [
        "print(accuracy)"
      ],
      "execution_count": null,
      "outputs": [
        {
          "output_type": "stream",
          "text": [
            "0.9750686336910179\n"
          ],
          "name": "stdout"
        }
      ]
    },
    {
      "cell_type": "code",
      "metadata": {
        "colab": {
          "base_uri": "https://localhost:8080/"
        },
        "id": "CfwvESA-PFnn",
        "outputId": "94e2b8f8-a753-4404-8bac-01de24931967"
      },
      "source": [
        "print(forecast_out)"
      ],
      "execution_count": null,
      "outputs": [
        {
          "output_type": "stream",
          "text": [
            "35\n"
          ],
          "name": "stdout"
        }
      ]
    },
    {
      "cell_type": "code",
      "metadata": {
        "id": "RN8V4wOkPQ48"
      },
      "source": [
        "  forecast_set = clf.predict(X_lately)"
      ],
      "execution_count": null,
      "outputs": []
    },
    {
      "cell_type": "code",
      "metadata": {
        "colab": {
          "base_uri": "https://localhost:8080/"
        },
        "id": "CBWiV1Bg8E8k",
        "outputId": "563e6c85-a48a-4ece-e0cf-213a10b1e2ab"
      },
      "source": [
        "print(forecast_set, accuracy,forecast_out)"
      ],
      "execution_count": null,
      "outputs": [
        {
          "output_type": "stream",
          "text": [
            "[1008.63813604 1011.05321363 1009.8317044  1048.51195787 1052.4209348\n",
            " 1052.66675828 1062.09999254 1063.41536735 1070.44627663 1062.77594374\n",
            " 1073.18333054 1068.18447407 1064.90518607 1061.14670485 1062.37455309\n",
            " 1056.90161668 1068.40529646 1055.51202541 1055.22221742 1070.72281106\n",
            " 1072.64322436 1077.15591975 1092.10060002 1082.63670157 1055.92290212\n",
            " 1055.88251241 1044.22228821 1030.46546958 1036.8500478  1051.35112626\n",
            " 1064.28606188 1069.51905073 1072.48572075 1067.72451275 1071.91347389] 0.9750686336910179 35\n"
          ],
          "name": "stdout"
        }
      ]
    },
    {
      "cell_type": "code",
      "metadata": {
        "id": "Ec7f5bVp8I_1"
      },
      "source": [
        "df['Forecast'] = np.nan"
      ],
      "execution_count": null,
      "outputs": []
    },
    {
      "cell_type": "code",
      "metadata": {
        "id": "7o7ma6d09MO1"
      },
      "source": [
        "last_date  = df.iloc[-1].name\n",
        "last_unix = last_date.timestamp()\n",
        "one_day = 86400\n",
        "next_unix = last_unix + one_day"
      ],
      "execution_count": null,
      "outputs": []
    },
    {
      "cell_type": "code",
      "metadata": {
        "colab": {
          "base_uri": "https://localhost:8080/",
          "height": 272
        },
        "id": "XhnD43k-_4LK",
        "outputId": "7983689c-a8e2-4fbd-a268-f92fca3fb295"
      },
      "source": [
        "for i in forecast_set:\n",
        "  next_date = datetime.datetime.fromtimestamp(next_unix)\n",
        "  next_unix += one_day\n",
        "  df.loc[next_date] = [np.nan for _ in range(len(df.columns) - 1)] + [i]\n",
        "\n",
        "df['Adj. Close'].plot()\n",
        "df['Forecast'].plot()\n",
        "plt.legend(loc = 4)\n",
        "plt.xlabel('Date')\n",
        "plt.ylabel('Price')\n",
        "plt.show()\n"
      ],
      "execution_count": null,
      "outputs": [
        {
          "output_type": "display_data",
          "data": {
            "image/png": "[encoded data removed]",
            "text/plain": [
              "<Figure size 432x288 with 1 Axes>"
            ]
          },
          "metadata": {
            "tags": []
          }
        }
      ]
    },
    {
      "cell_type": "code",
      "metadata": {
        "id": "yfxdzHSLA81d"
      },
      "source": [
        ""
      ],
      "execution_count": null,
      "outputs": []
    }
  ]
}