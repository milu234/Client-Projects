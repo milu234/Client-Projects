{
  "nbformat": 4,
  "nbformat_minor": 0,
  "metadata": {
    "colab": {
      "name": "NOV202020LR1.ipynb",
      "provenance": [],
      "authorship_tag": "ABX9TyNdwkvvcd/dMZRGJ3gtYvhO",
      "include_colab_link": true
    },
    "kernelspec": {
      "name": "python3",
      "display_name": "Python 3"
    }
  },
  "cells": [
    {
      "cell_type": "markdown",
      "metadata": {
        "id": "view-in-github",
        "colab_type": "text"
      },
      "source": [
        "<a href=\"https://colab.research.google.com/github/milu234/Client-Projects/blob/master/NOV202020LR1.ipynb\" target=\"_parent\"><img src=\"https://colab.research.google.com/assets/colab-badge.svg\" alt=\"Open In Colab\"/></a>"
      ]
    },
    {
      "cell_type": "code",
      "metadata": {
        "id": "hWCEGwmNbkJ9"
      },
      "source": [
        "from statistics import mean"
      ],
      "execution_count": 23,
      "outputs": []
    },
    {
      "cell_type": "code",
      "metadata": {
        "id": "d4vhqOiHUnOo"
      },
      "source": [
        "import numpy as np\n",
        "import matplotlib.pyplot as plt\n",
        "from matplotlib import style\n",
        "style.use('fivethirtyeight')\n",
        "\n"
      ],
      "execution_count": 24,
      "outputs": []
    },
    {
      "cell_type": "code",
      "metadata": {
        "id": "PMzQjvBaUxIZ"
      },
      "source": [
        "XS =  np.array([1,2,3,4,5,6], dtype = np.float64)\n",
        "YS = np.array([5,4,6,5,6,7], dtype = np.float64)"
      ],
      "execution_count": 25,
      "outputs": []
    },
    {
      "cell_type": "code",
      "metadata": {
        "id": "grRHtLm4pgE2"
      },
      "source": [
        "#y = mx  + b (Value of m is calculated as follows) \n",
        "# m = (mean(x)*mean(y)) - mean(x*y))/(mean(x)**2 - mean(x*x))\n",
        "# b = y - mx \n",
        "\n",
        "def best_fit_slope_and_intercept(XS, YS):\n",
        "  m = ((mean(XS) * mean(YS)) - mean(XS*YS))/(mean(XS)*mean(XS) - mean(XS*XS))\n",
        "  b = mean(YS) - m*mean(XS)\n",
        "  return m,b"
      ],
      "execution_count": 26,
      "outputs": []
    },
    {
      "cell_type": "code",
      "metadata": {
        "id": "Vb3UeR1cpluy"
      },
      "source": [
        "def squared_error(ys_orig, ys_line):\n",
        "  return sum((ys_orig - ys_line)**2)"
      ],
      "execution_count": 27,
      "outputs": []
    },
    {
      "cell_type": "code",
      "metadata": {
        "id": "cpNpbBnDpmHm"
      },
      "source": [
        "def coefficient_of_determination(ys_orig, ys_line):\n",
        "  y_mean_line = [mean(ys_orig) for y in ys_orig]\n",
        "  squared_error_regr = squared_error(ys_orig, ys_line)\n",
        "  squared_error_y_mean = squared_error(ys_orig, y_mean_line)\n",
        "  return 1 - (squared_error_regr/squared_error_y_mean)\n",
        "  \n"
      ],
      "execution_count": 28,
      "outputs": []
    },
    {
      "cell_type": "code",
      "metadata": {
        "colab": {
          "base_uri": "https://localhost:8080/"
        },
        "id": "h37XCi7NVPqv",
        "outputId": "6a39d702-7960-4d95-81d8-22a7cca916e4"
      },
      "source": [
        "#Valaue of coefficients m and b in equation y = mx + b\n",
        "\n",
        "m,b = best_fit_slope_and_intercept(XS, YS)\n",
        "print(m, b)"
      ],
      "execution_count": 29,
      "outputs": [
        {
          "output_type": "stream",
          "text": [
            "0.42857142857142866 4.0\n"
          ],
          "name": "stdout"
        }
      ]
    },
    {
      "cell_type": "code",
      "metadata": {
        "colab": {
          "base_uri": "https://localhost:8080/",
          "height": 299
        },
        "id": "jeEdbv7xRDeO",
        "outputId": "5cd13974-1866-4f15-b77e-f743cc3f14a8"
      },
      "source": [
        "regression_line = [(m*x) + b for x in XS ]\n",
        "\n",
        "predict_x = 8\n",
        "predict_y = m*predict_x + b\n",
        "\n",
        "#Rsquared Value\n",
        "r_squared = coefficient_of_determination(YS,regression_line)\n",
        "print(r_squared)\n",
        "\n",
        "plt.scatter(XS,YS)\n",
        "plt.scatter(predict_x,predict_y,color = 'g')\n",
        "plt.plot(XS, regression_line)\n",
        "plt.show()"
      ],
      "execution_count": 30,
      "outputs": [
        {
          "output_type": "stream",
          "text": [
            "0.5844155844155845\n"
          ],
          "name": "stdout"
        },
        {
          "output_type": "display_data",
          "data": {
            "image/png": "[encoded data removed]",
            "text/plain": [
              "<Figure size 432x288 with 1 Axes>"
            ]
          },
          "metadata": {
            "tags": []
          }
        }
      ]
    },
    {
      "cell_type": "code",
      "metadata": {
        "id": "aFGO_idBTisU"
      },
      "source": [
        ""
      ],
      "execution_count": 31,
      "outputs": []
    }
  ]
}